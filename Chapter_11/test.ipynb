{
 "cells": [
  {
   "cell_type": "code",
   "execution_count": 1,
   "metadata": {
    "collapsed": true
   },
   "outputs": [],
   "source": [
    "import tensorflow as tf\n",
    "from keras import layers\n"
   ]
  },
  {
   "cell_type": "code",
   "execution_count": 2,
   "outputs": [],
   "source": [
    "# 生成 10 个单词的数字编码\n",
    "x = tf.range(10)\n",
    "# 打散\n",
    "x = tf.random.shuffle(x)\n",
    "# 创建共 10 个单词，每个单词用长度为 4 的向量表示的层\n",
    "net = layers.Embedding(10, 4)\n",
    "# 获取词向量\n",
    "out = net(x)"
   ],
   "metadata": {
    "collapsed": false,
    "pycharm": {
     "name": "#%%\n"
    }
   }
  },
  {
   "cell_type": "code",
   "execution_count": 3,
   "outputs": [
    {
     "data": {
      "text/plain": "<tf.Tensor: shape=(10, 4), dtype=float32, numpy=\narray([[-1.2001049e-02,  1.7076135e-03, -1.1047043e-02,  2.4659004e-02],\n       [-4.9289893e-02,  4.0304545e-02, -4.5629408e-02, -4.9651336e-02],\n       [-1.9313229e-02, -3.0124569e-02, -2.6360869e-02, -3.7404522e-03],\n       [-5.3828582e-03, -4.1696168e-02,  9.4142072e-03,  3.9663043e-02],\n       [-3.4599327e-02, -3.4740698e-02,  4.1285489e-02, -3.3653818e-02],\n       [-2.5336862e-02,  6.1896443e-03, -2.5884867e-02, -4.7768224e-02],\n       [-1.0702983e-03,  2.1191016e-03, -1.9161059e-02, -4.3287635e-02],\n       [-1.6648412e-02, -4.2978253e-02, -2.5836170e-02,  1.4533997e-03],\n       [-3.6909949e-02, -3.8839020e-02, -4.0508736e-02, -2.8179634e-02],\n       [-5.8244914e-05,  1.2973476e-02, -8.7022781e-04,  1.8582676e-02]],\n      dtype=float32)>"
     },
     "execution_count": 3,
     "metadata": {},
     "output_type": "execute_result"
    }
   ],
   "source": [
    "out"
   ],
   "metadata": {
    "collapsed": false,
    "pycharm": {
     "name": "#%%\n"
    }
   }
  },
  {
   "cell_type": "code",
   "execution_count": 5,
   "outputs": [
    {
     "data": {
      "text/plain": "<tf.Variable 'embedding/embeddings:0' shape=(10, 4) dtype=float32, numpy=\narray([[-1.9313229e-02, -3.0124569e-02, -2.6360869e-02, -3.7404522e-03],\n       [-1.0702983e-03,  2.1191016e-03, -1.9161059e-02, -4.3287635e-02],\n       [-2.5336862e-02,  6.1896443e-03, -2.5884867e-02, -4.7768224e-02],\n       [-4.9289893e-02,  4.0304545e-02, -4.5629408e-02, -4.9651336e-02],\n       [-3.6909949e-02, -3.8839020e-02, -4.0508736e-02, -2.8179634e-02],\n       [-5.3828582e-03, -4.1696168e-02,  9.4142072e-03,  3.9663043e-02],\n       [-3.4599327e-02, -3.4740698e-02,  4.1285489e-02, -3.3653818e-02],\n       [-1.6648412e-02, -4.2978253e-02, -2.5836170e-02,  1.4533997e-03],\n       [-5.8244914e-05,  1.2973476e-02, -8.7022781e-04,  1.8582676e-02],\n       [-1.2001049e-02,  1.7076135e-03, -1.1047043e-02,  2.4659004e-02]],\n      dtype=float32)>"
     },
     "execution_count": 5,
     "metadata": {},
     "output_type": "execute_result"
    }
   ],
   "source": [
    "net.embeddings"
   ],
   "metadata": {
    "collapsed": false,
    "pycharm": {
     "name": "#%%\n"
    }
   }
  },
  {
   "cell_type": "code",
   "execution_count": 6,
   "outputs": [
    {
     "data": {
      "text/plain": "True"
     },
     "execution_count": 6,
     "metadata": {},
     "output_type": "execute_result"
    }
   ],
   "source": [
    "net.embeddings.trainable"
   ],
   "metadata": {
    "collapsed": false,
    "pycharm": {
     "name": "#%%\n"
    }
   }
  },
  {
   "cell_type": "code",
   "execution_count": null,
   "outputs": [],
   "source": [
    "load_embed()"
   ],
   "metadata": {
    "collapsed": false,
    "pycharm": {
     "name": "#%%\n"
    }
   }
  }
 ],
 "metadata": {
  "kernelspec": {
   "display_name": "Python 3",
   "language": "python",
   "name": "python3"
  },
  "language_info": {
   "codemirror_mode": {
    "name": "ipython",
    "version": 2
   },
   "file_extension": ".py",
   "mimetype": "text/x-python",
   "name": "python",
   "nbconvert_exporter": "python",
   "pygments_lexer": "ipython2",
   "version": "2.7.6"
  }
 },
 "nbformat": 4,
 "nbformat_minor": 0
}